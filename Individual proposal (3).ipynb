{
 "cells": [
  {
   "cell_type": "markdown",
   "id": "328ee21c",
   "metadata": {},
   "source": [
    "Analysis 1: \n",
    "The impact of family social time on well-being\n",
    "\n",
    "Specific question:\n",
    "does family socialising time have a significant effect on subjective well-being?\n",
    "\n",
    "RESEARCH INTEREST: We wish to estimate the potential positive effect of family social time on well-being, which in turn helps to reveal the importance of family support in mental health.\n",
    "\n",
    "Research variables: \n",
    "CONNECTION_social_time_family_p7d_grouped \n",
    "wellness_subjective_happiness_scale_happy (subjective happiness score)\n",
    "\n",
    "Rationale for selection: \n",
    "family relationships may have a significant effect on well-being, so these two variables were chosen to explore their relationship. A bar chart can be used to show the distribution of happiness scores for different social time groups, combined with confidence intervals to determine whether the differences between groups are significant.\n",
    "\n",
    "Data Visualization: since this is a categorical class variable and a numerical cumulative variable, I will create a bar graph to show the relationship between the two of them.\n",
    "\n",
    "Methods overview: Assuming sampling independence. Confidence intervals for well-being scores were calculated to analyse differences between groups for family social time. I'd like to take the same approach as in hw4, where I first take a decent sized sample of the data, and then bootstrap that sample to get a large amount of data. The required sample mean is then calculated and the confidence level is determined. The upper and lower limits of the confidence intervals were calculated using the formula ‘sample mean ± critical value * standard error’. The size of the confidence interval range is then observed. If the confidence interval is narrow at the set confidence level, there is no significant difference in the average happiness of the surveyed population. If the confidence interval is wider, it means that the happiness of the surveyed population varies more.\n",
    "\n",
    "Hypothetical conditions: it is assumed that happiness scores are similarly distributed between groups, or at least close to normal.\n",
    "\n",
    "EXPECTED RESULTS: Longer family socialising time may be associated with higher happiness scores.\n",
    "\n",
    "Significance: if the results are significant, they will support the positive impact of family socialisation on well-being and provide data to inform the research objectives of the project"
   ]
  },
  {
   "cell_type": "markdown",
   "id": "3c65e211",
   "metadata": {},
   "source": [
    "Analysis 2: \n",
    "The effect of friends' socialising time on well-being\n",
    "\n",
    "Specific question: \n",
    "oes time spent socialising with friends affect subjective well-being?\n",
    "\n",
    "Research interest: \n",
    "ould like to explore whether social support amongst friends has a positive impact on well-being, which is crucial to understanding the role of social interactions in mental health.\n",
    "\n",
    "Research variables: \n",
    "CONNECTION_social_time_friends_p7d_grouped (social time with friends in the last 7 days) \n",
    "wellness_subjective_happiness_scale_happy (subjective happiness score)\n",
    "\n",
    "Data Visualization:\n",
    "Histograms were plotted to look at the concentration trends and distribution of well-being scores to see if there was a significant difference between the well-being scores of the high and low social time groups.\n",
    "\n",
    "\n",
    "Reason for selection: \n",
    "friendships may have a greater impact on well-being, so these variables were selected. The distribution of happiness scores can be represented in a histogram and differences between groups can be analysed through significance tests.\n",
    "\n",
    "Overview of the methodology:Assuming sampling independence. Using hypothesis testing, as done by hw5, a right-tailed test is performed on the results. This is used to verify that there is sufficient evidence to prove whether -the hypothesised result is valid.Calculate the sample mean and standard error: calculate the mean score and standard error of well-being for the high social time group and the low social time group.Multiple sets of data are obtained by simulating the generation of multiple samples by means of simulation.\n",
    "Then set the significance level to 0.05. If the p-value is less than 0.05, the null hypothesis is rejected and it is concluded that friends' social time has a significant effect on happiness.This process is a bit like Ronald Fisher's tea tasting experiment that we mentioned in class.\n",
    "\n",
    "Hypothesis condition: it is assumed that there is a significant difference in the mean happiness scores of different groups.\n",
    "\n",
    "EXPECTED RESULTS: The null hypothesis was successfully rejected that the high friend social time group would have significantly higher happiness scores than the low social time group.\n",
    "\n",
    "Significance: if the results are significant, they will validate the positive role of friends' socialisation in well-being and support the project with data on the association between social support and mental health."
   ]
  },
  {
   "cell_type": "markdown",
   "id": "d9bc8bb5",
   "metadata": {},
   "source": [
    "Analysis 3: \n",
    "The impact of neighbourhood social time on well-being\n",
    "\n",
    "Specific question: \n",
    "does social interaction with neighbours have a significant effect on subjective well-being?\n",
    "\n",
    "Research interest:\n",
    "to analyse the role of neighbourhood relationships in community support and well-being and to help understand the impact of community interactions on mental health.\n",
    "\n",
    "Independent variable: CONNECTION_social_time_neighbours_p7d_grouped (social time with neighbours in the last 7 days)\n",
    "Dependent variable: wellness_subjective_happiness_scale_happy (subjective happiness score)\n",
    "\n",
    "Data Visualization:\n",
    "Plotting a scatterplot to show a linear relationship between two variables\n",
    "\n",
    "Reason for choice:\n",
    "Neighbourhood interactions may have an impact on well-being, and the relationship between neighbours' social time and well-being can be explored through a linear regression model that demonstrates trends in their well-being at different social times.\n",
    "\n",
    "Methodological overview: linear regression models were constructed in order to analyse the effect of neighbourhood social time on well-being scores.A linear regression equation was first established: well-being score = intercept + slope x neighbourhood social time + residuals. The regression coefficients were then estimated using least squares to fit the best intercept and slope. A t-test was then conducted to assess whether the slope (the effect of neighbourhood social time on happiness) was significant. If the p-value of the slope is less than the set level of significance, then the effect of neighbourhood social time on well-being can be considered significant.\n",
    "\n",
    "Hypothesis condition: it is assumed that neighbourhood social time has some linear effect on well-being and that the linear regression assumption is met.\n",
    "\n",
    "EXPECTED RESULTS: Longer neighbourhood social time may be positively associated with higher well-being scores.\n",
    "\n",
    "Significance: if significant, this would indicate a positive effect of neighbourhood socialisation on well-being, providing the project with data to support the positive impact of community relations on mental health."
   ]
  },
  {
   "cell_type": "markdown",
   "id": "bd8ddcfd",
   "metadata": {},
   "source": [
    "Tip： I hope I can be in the same group with Runfeng and Haoshu because we are friends and we often go to the library to study together, so if we can be in the same group I think we can finish this group work better and more efficiently."
   ]
  }
 ],
 "metadata": {
  "kernelspec": {
   "display_name": "Python 3 (ipykernel)",
   "language": "python",
   "name": "python3"
  },
  "language_info": {
   "codemirror_mode": {
    "name": "ipython",
    "version": 3
   },
   "file_extension": ".py",
   "mimetype": "text/x-python",
   "name": "python",
   "nbconvert_exporter": "python",
   "pygments_lexer": "ipython3",
   "version": "3.11.6"
  }
 },
 "nbformat": 4,
 "nbformat_minor": 5
}
